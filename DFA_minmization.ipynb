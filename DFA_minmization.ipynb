{
  "nbformat": 4,
  "nbformat_minor": 0,
  "metadata": {
    "colab": {
      "name": "Untitled4.ipynb",
      "provenance": [],
      "collapsed_sections": [],
      "authorship_tag": "ABX9TyNnUdABk/1PpguAyMZFQmr6",
      "include_colab_link": true
    },
    "kernelspec": {
      "name": "python3",
      "display_name": "Python 3"
    },
    "language_info": {
      "name": "python"
    }
  },
  "cells": [
    {
      "cell_type": "markdown",
      "metadata": {
        "id": "view-in-github",
        "colab_type": "text"
      },
      "source": [
        "<a href=\"https://colab.research.google.com/github/Sahar-Hassan/theroy-of-compution/blob/main/DFA_minmization.ipynb\" target=\"_parent\"><img src=\"https://colab.research.google.com/assets/colab-badge.svg\" alt=\"Open In Colab\"/></a>"
      ]
    },
    {
      "cell_type": "code",
      "execution_count": null,
      "metadata": {
        "id": "CZkB92sAxjlD"
      },
      "outputs": [],
      "source": [
        "from collections import defaultdict\n",
        "import networkx as nx\n",
        "import matplotlib.pyplot as plt \n",
        "!apt install libgraphviz-dev\n",
        "!pip install pygraphviz\n",
        "import pygraphviz\n",
        "\n",
        "from graphviz import Source \n",
        "import matplotlib.pyplot as plt\n",
        "%matplotlib inline\n",
        " "
      ]
    },
    {
      "cell_type": "code",
      "source": [
        "class DisjointSet(object):\n",
        "\n",
        "\tdef __init__(self,items):\n",
        "\n",
        "\t\tself._disjoint_set = list()\n",
        "\n",
        "\t\tif items:\n",
        "\t\t\tfor item in set(items):\n",
        "\t\t\t\tself._disjoint_set.append([item])\n",
        "\n",
        "\tdef _get_index(self,item):\n",
        "\t\tfor s in self._disjoint_set:\n",
        "\t\t\tfor _item in s:\n",
        "\t\t\t\tif _item == item:\n",
        "\t\t\t\t\treturn self._disjoint_set.index(s)\n",
        "\t\treturn None\n",
        "\n",
        "\tdef find(self,item):\n",
        "\t\tfor s in self._disjoint_set:\n",
        "\t\t\tif item in s:\n",
        "\t\t\t\treturn s\n",
        "\t\treturn None\n",
        "\n",
        "\tdef find_set(self,item):\n",
        "\n",
        "\t\ts = self._get_index(item)\n",
        "\n",
        "\t\treturn s+1 if s is not None else None \n",
        "\n",
        "\tdef union(self,item1,item2):\n",
        "\t\ti = self._get_index(item1)\n",
        "\t\tj = self._get_index(item2)\n",
        "\n",
        "\t\tif i != j:\n",
        "\t\t\tself._disjoint_set[i] += self._disjoint_set[j]\n",
        "\t\t\tdel self._disjoint_set[j]\n",
        "\t\n",
        "\tdef get(self):\n",
        "\t\treturn self._disjoint_set"
      ],
      "metadata": {
        "id": "bJHC2qE859S0"
      },
      "execution_count": null,
      "outputs": []
    },
    {
      "cell_type": "code",
      "source": [
        "class DFA(object):\n",
        "\n",
        "\tdef __init__(self,states_or_filename,terminals=None,start_state=None, \\\n",
        "\t\t\t\t\t\ttransitions=None,final_states=None):\n",
        "\t\t\n",
        "\t\tif terminals is None:\n",
        "\t\t\tself._get_graph_from_file(states_or_filename)\n",
        "\t\telse:\n",
        "\t\t\tassert isinstance(states_or_filename,list) or \\\n",
        "\t\t\t\t\t\t\t\t\t isinstance(states_or_filename,tuple)\n",
        "\t\t\tself.states = states_or_filename\n",
        "\n",
        "\t\t\tassert isinstance(terminals,list) or isinstance(terminals,tuple)\n",
        "\t\t\tself.terminals = terminals\n",
        "\n",
        "\t\t\tassert isinstance(start_state,str)\n",
        "\t\t\tself.start_state = start_state\n",
        "\n",
        "\t\t\tassert isinstance(transitions,dict)\n",
        "\t\t\tself.transitions = transitions\n",
        "\n",
        "\t\t\tassert isinstance(final_states,list) or \\\n",
        "\t\t\t\t\t\t\t\t\t\t\tisinstance(final_states,tuple)\n",
        "\t\t\tself.final_states = final_states\n",
        "\n",
        "\tdef draw(self):\n",
        "\t\t'''\n",
        "\t\tDraws the dfa using networkx and matplotlib\n",
        "\t\t'''\n",
        "\t\tg = nx.DiGraph()\n",
        "\n",
        "\t\tfor x in self.states:\n",
        "\t\t    g.add_node(x,shape='doublecircle' if x in self.final_states else 'circle',fillcolor='grey' if x == self.start_state else 'white',style='filled')\n",
        "\n",
        "\t\ttemp = defaultdict(list)\n",
        "\t\tfor k,v in self.transitions.items():\n",
        "\t\t    temp[(k[0],v)].append(k[1])\n",
        "\t\t\n",
        "\t\tfor k,v in temp.items():    \n",
        "\t\t    g.add_edge(k[0],k[1],label=','.join(v))\n",
        "\n",
        "\n",
        "\t\treturn Source(nx.drawing.nx_agraph.to_agraph(g))\n",
        "\n",
        "\tdef _remove_unreachable_states(self):\n",
        "\t\t'''\n",
        "\t\tRemoves states that are unreachable from the start state\n",
        "\t\t'''\n",
        "\n",
        "\t\tg = defaultdict(list)\n",
        "\t\t\n",
        "\t\tfor k,v in self.transitions.items():\n",
        "\t\t\tg[k[0]].append(v)\n",
        "\n",
        "\t\t# do DFS\n",
        "\t\tstack = [self.start_state]\n",
        "\n",
        "\t\treachable_states =  set()\n",
        "\n",
        "\t\twhile stack:\n",
        "\t\t\tstate = stack.pop()\n",
        "\n",
        "\t\t\tif state not in reachable_states:\n",
        "\t\t\t\tstack += g[state]\n",
        "\t\t\t\n",
        "\t\t\treachable_states.add(state)\n",
        "\n",
        "\t\tself.states = [state for state in self.states \\\n",
        "\t\t\t\t\t\t\t\t if state in reachable_states]\n",
        "\t\t\n",
        "\t\tself.final_states = [state for state in self.final_states \\\n",
        "\t\t\t\t\t\t\t\t if state in reachable_states]\n",
        "\n",
        "\n",
        "\t\tself.transitions = { k:v for k,v in self.transitions.items() \\\n",
        "\t\t\t\t\t\t\t\tif k[0] in reachable_states}\n",
        "\n",
        "\n",
        "\n",
        "\tdef minimize(self):\n",
        "\n",
        "\t\tself._remove_unreachable_states()\n",
        "\n",
        "\t\tdef order_tuple(a,b):\n",
        "\t\t\treturn (a,b) if a < b else (b,a)\n",
        "\n",
        "\t\ttable = {}\n",
        "\n",
        "\t\tsorted_states = sorted(self.states)\n",
        "\n",
        "\t\t# initialize the table\n",
        "\t\tfor i,item in enumerate(sorted_states):\n",
        "\t\t\tfor item_2 in sorted_states[i+1:]:\n",
        "\t\t\t\ttable[(item,item_2)] = (item in self.final_states) != (item_2\\\n",
        "\t\t\t\t\t\t\t\t\t\t\t\t\t\t in self.final_states)\n",
        "\n",
        "\t\tflag = True\n",
        "\n",
        "\t\t# table filling method\n",
        "\t\twhile flag:\n",
        "\t\t\tflag = False\n",
        "\n",
        "\t\t\tfor i,item in enumerate(sorted_states):\n",
        "\t\t\t\tfor item_2 in sorted_states[i+1:]:\n",
        "\n",
        "\t\t\t\t\tif table[(item,item_2)]:\n",
        "\t\t\t\t\t\tcontinue\n",
        "\n",
        "\t\t\t\t\t# check if the states are distinguishable\n",
        "\t\t\t\t\tfor w in self.terminals:\n",
        "\t\t\t\t\t\tt1 = self.transitions.get((item,w),None)\n",
        "\t\t\t\t\t\tt2 = self.transitions.get((item_2,w),None)\n",
        "\n",
        "\t\t\t\t\t\tif t1 is not None and t2 is not None and t1 != t2:\n",
        "\t\t\t\t\t\t\tmarked = table[order_tuple(t1,t2)]\n",
        "\t\t\t\t\t\t\tflag = flag or marked\n",
        "\t\t\t\t\t\t\ttable[(item,item_2)] = marked\n",
        "\t\t\t\t\t\t\t\n",
        "\t\t\t\t\t\t\tif marked:\n",
        "\t\t\t\t\t\t\t\tbreak\n",
        "\n",
        "\t\td = DisjointSet(self.states)\n",
        "\n",
        "\t\t# form new states\n",
        "\t\tfor k,v in table.items():\n",
        "\t\t\tif not v:\n",
        "\t\t\t\td.union(k[0],k[1])\n",
        "\n",
        "\t\tself.states = [str(x) for x in range(1,1+len(d.get()))]\n",
        "\t\tnew_final_states = []\n",
        "\t\tself.start_state = str(d.find_set(self.start_state))\n",
        "\n",
        "\t\tfor s in d.get():\n",
        "\t\t\tfor item in s:\n",
        "\t\t\t\tif item in self.final_states:\n",
        "\t\t\t\t\tnew_final_states.append(str(d.find_set(item)))\n",
        "\t\t\t\t\tbreak\n",
        "\n",
        "\t\tself.transitions = {(str(d.find_set(k[0])),k[1]):str(d.find_set(v))  \n",
        "\t\t\t\t\t\t\t\tfor k,v in self.transitions.items()}\n",
        "\n",
        "\t\tself.final_states = new_final_states\n",
        " \n",
        "\n",
        "\tdef __str__(self):\n",
        "\t\t'''\n",
        "\t\tString representation\n",
        "\t\t'''\n",
        "\t\tnum_of_state = len(self.states)\n",
        "\t\tstart_state = self.start_state\n",
        "\t\tnum_of_final = len(self.final_states)\n",
        "\n",
        "\t\treturn '{} states. {} final states. start state {}'.format( \\\n",
        "\t\t\t\t\t\t\t\t\t\tnum_of_state,num_of_final,start_state)\n",
        "\n",
        "\n",
        "\tdef _get_graph_from_file(self,filename):\n",
        "\t\t'''\n",
        "\t\tLoad the graph from file\n",
        "\t\t'''\n",
        "\n",
        "\t\twith open(filename,'r') as f:\n",
        "\n",
        "\t\t\ttry:\n",
        "\t\t\t\tlines = f.readlines()\n",
        "\t\t\t\tstates,terminals,start_state,final_states = lines[:4]\n",
        "\t\t\t\t\n",
        "\t\t\t\tif states:\n",
        "\t\t\t\t\tself.states = states[:-1].split()\n",
        "\t\t\t\telse:\n",
        "\t\t\t\t\traise Exception('Invalid file format: cannot read states')\n",
        "\n",
        "\t\t\t\tif terminals:\n",
        "\t\t\t\t\tself.terminals = terminals[:-1].split()\n",
        "\t\t\t\telse:\n",
        "\t\t\t\t\traise Exception('Invalid file format: cannot read terminals')\n",
        "\n",
        "\t\t\t\tif start_state:\n",
        "\t\t\t\t\tself.start_state = start_state[:-1]\n",
        "\t\t\t\telse:\n",
        "\t\t\t\t\traise Exception('Invalid file format: cannot read start state')\n",
        "\n",
        "\t\t\t\tif final_states:\n",
        "\t\t\t\t\tself.final_states = final_states[:-1].split()\n",
        "\t\t\t\telse:\n",
        "\t\t\t\t\traise Exception('Invalid file format: cannot read final states')\n",
        "\n",
        "\t\t\t\tlines = lines[4:]\n",
        "\n",
        "\t\t\t\tself.transitions = {}\n",
        "\n",
        "\t\t\t\tfor line in lines:\n",
        "\t\t\t\t\tcurrent_state,terminal,next_state = line[:-1].split()\n",
        "\n",
        "\t\t\t\t\tself.transitions[(current_state,terminal)] = next_state\n",
        "\n",
        "\t\t\texcept Exception as e:\n",
        "\t\t\t\tprint(\"ERROR: \",e)\n",
        "\n",
        "\n",
        "\n"
      ],
      "metadata": {
        "id": "Xao_wwQizCyB"
      },
      "execution_count": null,
      "outputs": []
    },
    {
      "cell_type": "code",
      "source": [
        "! cat  GRAPH.txt"
      ],
      "metadata": {
        "colab": {
          "base_uri": "https://localhost:8080/"
        },
        "id": "vZZkD03bzQ3s",
        "outputId": "1a6f1e87-25b1-4191-a127-a767d9c5ea54"
      },
      "execution_count": null,
      "outputs": [
        {
          "output_type": "stream",
          "name": "stdout",
          "text": [
            "A B C D E F H G I K\r\n",
            "0 1\r\n",
            "A\r\n",
            "E\r\n",
            "A 0 B \r\n",
            "A 1 C \r\n",
            "B 0 C \r\n",
            "B 1 D \r\n",
            "C 0 E \r\n",
            "C 1 F \r\n",
            "D 0 G \r\n",
            "D 1 F \r\n",
            "E 0 D \r\n",
            "E 1 B   \r\n",
            "F 0 D \r\n",
            "F 1 H \r\n",
            "H 0 I \r\n",
            "H 1 D \r\n",
            "G 0 H \r\n",
            "G 1 I \r\n",
            "I 0 I \r\n",
            "I 1 F \r\n",
            "K 0 F \r\n",
            "K 1 I \r\n",
            "  "
          ]
        }
      ]
    },
    {
      "cell_type": "code",
      "source": [
        "\n",
        "# initialize DFA from file\n",
        "filename = 'GRAPH.txt'\n",
        "dfa = DFA(filename)\n",
        "dfa.draw() "
      ],
      "metadata": {
        "id": "Hrxtd_ua2auQ",
        "colab": {
          "base_uri": "https://localhost:8080/",
          "height": 920
        },
        "outputId": "34c83eaf-c97b-4839-c0b3-c68ba6165d00"
      },
      "execution_count": null,
      "outputs": [
        {
          "output_type": "stream",
          "name": "stdout",
          "text": [
            "ERROR:  not enough values to unpack (expected 3, got 0)\n"
          ]
        },
        {
          "output_type": "execute_result",
          "data": {
            "text/plain": [
              "<graphviz.files.Source at 0x7faf615ed490>"
            ],
            "image/svg+xml": "<?xml version=\"1.0\" encoding=\"UTF-8\" standalone=\"no\"?>\n<!DOCTYPE svg PUBLIC \"-//W3C//DTD SVG 1.1//EN\"\n \"http://www.w3.org/Graphics/SVG/1.1/DTD/svg11.dtd\">\n<!-- Generated by graphviz version 2.40.1 (20161225.0304)\n -->\n<!-- Pages: 1 -->\n<svg width=\"235pt\" height=\"661pt\"\n viewBox=\"0.00 0.00 235.00 661.00\" xmlns=\"http://www.w3.org/2000/svg\" xmlns:xlink=\"http://www.w3.org/1999/xlink\">\n<g id=\"graph0\" class=\"graph\" transform=\"scale(1 1) rotate(0) translate(4 657)\">\n<polygon fill=\"#ffffff\" stroke=\"transparent\" points=\"-4,4 -4,-657 231,-657 231,4 -4,4\"/>\n<!-- A -->\n<g id=\"node1\" class=\"node\">\n<title>A</title>\n<ellipse fill=\"#c0c0c0\" stroke=\"#000000\" cx=\"143\" cy=\"-635\" rx=\"18\" ry=\"18\"/>\n<text text-anchor=\"middle\" x=\"143\" y=\"-631.3\" font-family=\"Times,serif\" font-size=\"14.00\" fill=\"#000000\">A</text>\n</g>\n<!-- B -->\n<g id=\"node2\" class=\"node\">\n<title>B</title>\n<ellipse fill=\"#ffffff\" stroke=\"#000000\" cx=\"103\" cy=\"-548\" rx=\"18\" ry=\"18\"/>\n<text text-anchor=\"middle\" x=\"103\" y=\"-544.3\" font-family=\"Times,serif\" font-size=\"14.00\" fill=\"#000000\">B</text>\n</g>\n<!-- A&#45;&gt;B -->\n<g id=\"edge1\" class=\"edge\">\n<title>A&#45;&gt;B</title>\n<path fill=\"none\" stroke=\"#000000\" d=\"M135.4763,-618.636C129.7026,-606.0781 121.6192,-588.4967 114.9615,-574.0162\"/>\n<polygon fill=\"#000000\" stroke=\"#000000\" points=\"117.9833,-572.2101 110.626,-564.5865 111.6233,-575.1342 117.9833,-572.2101\"/>\n<text text-anchor=\"middle\" x=\"130\" y=\"-587.8\" font-family=\"Times,serif\" font-size=\"14.00\" fill=\"#000000\">0</text>\n</g>\n<!-- C -->\n<g id=\"node3\" class=\"node\">\n<title>C</title>\n<ellipse fill=\"#ffffff\" stroke=\"#000000\" cx=\"152\" cy=\"-461\" rx=\"18\" ry=\"18\"/>\n<text text-anchor=\"middle\" x=\"152\" y=\"-457.3\" font-family=\"Times,serif\" font-size=\"14.00\" fill=\"#000000\">C</text>\n</g>\n<!-- A&#45;&gt;C -->\n<g id=\"edge2\" class=\"edge\">\n<title>A&#45;&gt;C</title>\n<path fill=\"none\" stroke=\"#000000\" d=\"M143.9461,-616.7078C145.5167,-586.3436 148.673,-525.3226 150.5338,-489.3464\"/>\n<polygon fill=\"#000000\" stroke=\"#000000\" points=\"154.0452,-489.2146 151.0665,-479.0471 147.0546,-488.8529 154.0452,-489.2146\"/>\n<text text-anchor=\"middle\" x=\"152\" y=\"-544.3\" font-family=\"Times,serif\" font-size=\"14.00\" fill=\"#000000\">1</text>\n</g>\n<!-- B&#45;&gt;C -->\n<g id=\"edge3\" class=\"edge\">\n<title>B&#45;&gt;C</title>\n<path fill=\"none\" stroke=\"#000000\" d=\"M111.9874,-532.0429C119.309,-519.0433 129.7704,-500.4688 138.1602,-485.5728\"/>\n<polygon fill=\"#000000\" stroke=\"#000000\" points=\"141.2118,-487.2867 143.0696,-476.856 135.1126,-483.8515 141.2118,-487.2867\"/>\n<text text-anchor=\"middle\" x=\"135\" y=\"-500.8\" font-family=\"Times,serif\" font-size=\"14.00\" fill=\"#000000\">0</text>\n</g>\n<!-- D -->\n<g id=\"node4\" class=\"node\">\n<title>D</title>\n<ellipse fill=\"#ffffff\" stroke=\"#000000\" cx=\"87\" cy=\"-279\" rx=\"18\" ry=\"18\"/>\n<text text-anchor=\"middle\" x=\"87\" y=\"-275.3\" font-family=\"Times,serif\" font-size=\"14.00\" fill=\"#000000\">D</text>\n</g>\n<!-- B&#45;&gt;D -->\n<g id=\"edge4\" class=\"edge\">\n<title>B&#45;&gt;D</title>\n<path fill=\"none\" stroke=\"#000000\" d=\"M97.9133,-530.6814C88.3454,-496.0922 69.1361,-415.9408 75,-348 76.1844,-334.2772 78.6703,-319.1883 81.074,-306.6293\"/>\n<polygon fill=\"#000000\" stroke=\"#000000\" points=\"84.5187,-307.252 83.0433,-296.7604 77.654,-305.8821 84.5187,-307.252\"/>\n<text text-anchor=\"middle\" x=\"81\" y=\"-413.8\" font-family=\"Times,serif\" font-size=\"14.00\" fill=\"#000000\">1</text>\n</g>\n<!-- E -->\n<g id=\"node5\" class=\"node\">\n<title>E</title>\n<ellipse fill=\"#ffffff\" stroke=\"#000000\" cx=\"106\" cy=\"-370\" rx=\"18\" ry=\"18\"/>\n<ellipse fill=\"none\" stroke=\"#000000\" cx=\"106\" cy=\"-370\" rx=\"22\" ry=\"22\"/>\n<text text-anchor=\"middle\" x=\"106\" y=\"-366.3\" font-family=\"Times,serif\" font-size=\"14.00\" fill=\"#000000\">E</text>\n</g>\n<!-- C&#45;&gt;E -->\n<g id=\"edge5\" class=\"edge\">\n<title>C&#45;&gt;E</title>\n<path fill=\"none\" stroke=\"#000000\" d=\"M143.7761,-444.731C137.3559,-432.0302 128.272,-414.0598 120.6209,-398.9241\"/>\n<polygon fill=\"#000000\" stroke=\"#000000\" points=\"123.7139,-397.2843 116.0789,-389.9387 117.4667,-400.4423 123.7139,-397.2843\"/>\n<text text-anchor=\"middle\" x=\"138\" y=\"-413.8\" font-family=\"Times,serif\" font-size=\"14.00\" fill=\"#000000\">0</text>\n</g>\n<!-- F -->\n<g id=\"node6\" class=\"node\">\n<title>F</title>\n<ellipse fill=\"#ffffff\" stroke=\"#000000\" cx=\"135\" cy=\"-192\" rx=\"18\" ry=\"18\"/>\n<text text-anchor=\"middle\" x=\"135\" y=\"-188.3\" font-family=\"Times,serif\" font-size=\"14.00\" fill=\"#000000\">F</text>\n</g>\n<!-- C&#45;&gt;F -->\n<g id=\"edge6\" class=\"edge\">\n<title>C&#45;&gt;F</title>\n<path fill=\"none\" stroke=\"#000000\" d=\"M150.8582,-442.9325C147.9548,-396.9908 140.2734,-275.4435 136.7775,-220.1271\"/>\n<polygon fill=\"#000000\" stroke=\"#000000\" points=\"140.2607,-219.7482 136.1368,-209.9889 133.2746,-220.1898 140.2607,-219.7482\"/>\n<text text-anchor=\"middle\" x=\"147\" y=\"-318.8\" font-family=\"Times,serif\" font-size=\"14.00\" fill=\"#000000\">1</text>\n</g>\n<!-- D&#45;&gt;F -->\n<g id=\"edge7\" class=\"edge\">\n<title>D&#45;&gt;F</title>\n<path fill=\"none\" stroke=\"#000000\" d=\"M92.0137,-261.3836C95.2682,-251.2614 100.0182,-238.5114 106,-228 108.8779,-222.9429 112.4516,-217.8629 116.0962,-213.1784\"/>\n<polygon fill=\"#000000\" stroke=\"#000000\" points=\"118.9546,-215.2128 122.5982,-205.2642 113.5458,-210.7692 118.9546,-215.2128\"/>\n<text text-anchor=\"middle\" x=\"110\" y=\"-231.8\" font-family=\"Times,serif\" font-size=\"14.00\" fill=\"#000000\">1</text>\n</g>\n<!-- G -->\n<g id=\"node7\" class=\"node\">\n<title>G</title>\n<ellipse fill=\"#ffffff\" stroke=\"#000000\" cx=\"18\" cy=\"-192\" rx=\"18\" ry=\"18\"/>\n<text text-anchor=\"middle\" x=\"18\" y=\"-188.3\" font-family=\"Times,serif\" font-size=\"14.00\" fill=\"#000000\">G</text>\n</g>\n<!-- D&#45;&gt;G -->\n<g id=\"edge8\" class=\"edge\">\n<title>D&#45;&gt;G</title>\n<path fill=\"none\" stroke=\"#000000\" d=\"M73.1199,-267.4701C65.5115,-260.7688 56.1937,-251.9087 49,-243 42.5942,-235.067 36.5325,-225.697 31.4969,-217.1669\"/>\n<polygon fill=\"#000000\" stroke=\"#000000\" points=\"34.4621,-215.3011 26.4678,-208.3483 28.3814,-218.7689 34.4621,-215.3011\"/>\n<text text-anchor=\"middle\" x=\"53\" y=\"-231.8\" font-family=\"Times,serif\" font-size=\"14.00\" fill=\"#000000\">0</text>\n</g>\n<!-- E&#45;&gt;B -->\n<g id=\"edge9\" class=\"edge\">\n<title>E&#45;&gt;B</title>\n<path fill=\"none\" stroke=\"#000000\" d=\"M105.625,-392.2505C105.0804,-424.5649 104.0707,-484.4723 103.4748,-519.8268\"/>\n<polygon fill=\"#000000\" stroke=\"#000000\" points=\"99.9733,-519.8953 103.3042,-529.9528 106.9723,-520.0133 99.9733,-519.8953\"/>\n<text text-anchor=\"middle\" x=\"109\" y=\"-457.3\" font-family=\"Times,serif\" font-size=\"14.00\" fill=\"#000000\">1</text>\n</g>\n<!-- E&#45;&gt;D -->\n<g id=\"edge10\" class=\"edge\">\n<title>E&#45;&gt;D</title>\n<path fill=\"none\" stroke=\"#000000\" d=\"M101.4973,-348.4343C98.8996,-335.9927 95.605,-320.2134 92.8132,-306.8422\"/>\n<polygon fill=\"#000000\" stroke=\"#000000\" points=\"96.175,-305.8184 90.705,-296.7448 89.3228,-307.2491 96.175,-305.8184\"/>\n<text text-anchor=\"middle\" x=\"102\" y=\"-318.8\" font-family=\"Times,serif\" font-size=\"14.00\" fill=\"#000000\">0</text>\n</g>\n<!-- F&#45;&gt;D -->\n<g id=\"edge11\" class=\"edge\">\n<title>F&#45;&gt;D</title>\n<path fill=\"none\" stroke=\"#000000\" d=\"M128.7558,-208.98C124.7657,-219.1175 119.1892,-232.0987 113,-243 110.4687,-247.4584 107.4981,-252.0298 104.4872,-256.3545\"/>\n<polygon fill=\"#000000\" stroke=\"#000000\" points=\"101.4203,-254.6215 98.3781,-264.7702 107.0851,-258.7337 101.4203,-254.6215\"/>\n<text text-anchor=\"middle\" x=\"125\" y=\"-231.8\" font-family=\"Times,serif\" font-size=\"14.00\" fill=\"#000000\">0</text>\n</g>\n<!-- H -->\n<g id=\"node8\" class=\"node\">\n<title>H</title>\n<ellipse fill=\"#ffffff\" stroke=\"#000000\" cx=\"73\" cy=\"-105\" rx=\"18\" ry=\"18\"/>\n<text text-anchor=\"middle\" x=\"73\" y=\"-101.3\" font-family=\"Times,serif\" font-size=\"14.00\" fill=\"#000000\">H</text>\n</g>\n<!-- F&#45;&gt;H -->\n<g id=\"edge12\" class=\"edge\">\n<title>F&#45;&gt;H</title>\n<path fill=\"none\" stroke=\"#000000\" d=\"M124.4825,-177.2416C114.952,-163.8681 100.7463,-143.9344 89.67,-128.3918\"/>\n<polygon fill=\"#000000\" stroke=\"#000000\" points=\"92.2229,-125.9432 83.569,-119.8308 86.5223,-130.0057 92.2229,-125.9432\"/>\n<text text-anchor=\"middle\" x=\"112\" y=\"-144.8\" font-family=\"Times,serif\" font-size=\"14.00\" fill=\"#000000\">1</text>\n</g>\n<!-- G&#45;&gt;H -->\n<g id=\"edge15\" class=\"edge\">\n<title>G&#45;&gt;H</title>\n<path fill=\"none\" stroke=\"#000000\" d=\"M27.8329,-176.4461C36.1233,-163.3322 48.1286,-144.342 57.6785,-129.2358\"/>\n<polygon fill=\"#000000\" stroke=\"#000000\" points=\"60.867,-130.7421 63.2522,-120.4192 54.9502,-127.0015 60.867,-130.7421\"/>\n<text text-anchor=\"middle\" x=\"53\" y=\"-144.8\" font-family=\"Times,serif\" font-size=\"14.00\" fill=\"#000000\">0</text>\n</g>\n<!-- I -->\n<g id=\"node9\" class=\"node\">\n<title>I</title>\n<ellipse fill=\"#ffffff\" stroke=\"#000000\" cx=\"115\" cy=\"-18\" rx=\"18\" ry=\"18\"/>\n<text text-anchor=\"middle\" x=\"115\" y=\"-14.3\" font-family=\"Times,serif\" font-size=\"14.00\" fill=\"#000000\">I</text>\n</g>\n<!-- G&#45;&gt;I -->\n<g id=\"edge16\" class=\"edge\">\n<title>G&#45;&gt;I</title>\n<path fill=\"none\" stroke=\"#000000\" d=\"M18.0019,-173.712C18.756,-151.7576 22.4847,-114.4676 38,-87 50.7051,-64.5076 73.4597,-45.498 90.9497,-33.1637\"/>\n<polygon fill=\"#000000\" stroke=\"#000000\" points=\"93.2246,-35.8498 99.5348,-27.3391 89.2946,-30.0572 93.2246,-35.8498\"/>\n<text text-anchor=\"middle\" x=\"42\" y=\"-101.3\" font-family=\"Times,serif\" font-size=\"14.00\" fill=\"#000000\">1</text>\n</g>\n<!-- H&#45;&gt;D -->\n<g id=\"edge13\" class=\"edge\">\n<title>H&#45;&gt;D</title>\n<path fill=\"none\" stroke=\"#000000\" d=\"M74.4586,-123.1286C76.8988,-153.4564 81.8258,-214.6917 84.7249,-250.7233\"/>\n<polygon fill=\"#000000\" stroke=\"#000000\" points=\"81.2637,-251.3473 85.5545,-261.0343 88.2411,-250.7858 81.2637,-251.3473\"/>\n<text text-anchor=\"middle\" x=\"86\" y=\"-188.3\" font-family=\"Times,serif\" font-size=\"14.00\" fill=\"#000000\">1</text>\n</g>\n<!-- H&#45;&gt;I -->\n<g id=\"edge14\" class=\"edge\">\n<title>H&#45;&gt;I</title>\n<path fill=\"none\" stroke=\"#000000\" d=\"M80.8999,-88.636C87.0596,-75.8766 95.7229,-57.9312 102.7758,-43.3216\"/>\n<polygon fill=\"#000000\" stroke=\"#000000\" points=\"105.9399,-44.8178 107.1355,-34.2907 99.6361,-41.7745 105.9399,-44.8178\"/>\n<text text-anchor=\"middle\" x=\"101\" y=\"-57.8\" font-family=\"Times,serif\" font-size=\"14.00\" fill=\"#000000\">0</text>\n</g>\n<!-- I&#45;&gt;F -->\n<g id=\"edge17\" class=\"edge\">\n<title>I&#45;&gt;F</title>\n<path fill=\"none\" stroke=\"#000000\" d=\"M117.0838,-36.1286C120.5697,-66.4564 127.6082,-127.6917 131.7498,-163.7233\"/>\n<polygon fill=\"#000000\" stroke=\"#000000\" points=\"128.3159,-164.4994 132.935,-174.0343 135.2701,-163.7 128.3159,-164.4994\"/>\n<text text-anchor=\"middle\" x=\"131\" y=\"-101.3\" font-family=\"Times,serif\" font-size=\"14.00\" fill=\"#000000\">1</text>\n</g>\n<!-- I&#45;&gt;I -->\n<g id=\"edge18\" class=\"edge\">\n<title>I&#45;&gt;I</title>\n<path fill=\"none\" stroke=\"#000000\" d=\"M131.6641,-25.3828C141.625,-27.0234 151,-24.5625 151,-18 151,-13.7959 147.1525,-11.2751 141.7682,-10.4375\"/>\n<polygon fill=\"#000000\" stroke=\"#000000\" points=\"141.6002,-6.9399 131.6641,-10.6172 141.7247,-13.9388 141.6002,-6.9399\"/>\n<text text-anchor=\"middle\" x=\"155\" y=\"-14.3\" font-family=\"Times,serif\" font-size=\"14.00\" fill=\"#000000\">0</text>\n</g>\n<!-- K -->\n<g id=\"node10\" class=\"node\">\n<title>K</title>\n<ellipse fill=\"#ffffff\" stroke=\"#000000\" cx=\"209\" cy=\"-279\" rx=\"18\" ry=\"18\"/>\n<text text-anchor=\"middle\" x=\"209\" y=\"-275.3\" font-family=\"Times,serif\" font-size=\"14.00\" fill=\"#000000\">K</text>\n</g>\n<!-- K&#45;&gt;F -->\n<g id=\"edge19\" class=\"edge\">\n<title>K&#45;&gt;F</title>\n<path fill=\"none\" stroke=\"#000000\" d=\"M198.1366,-264.4282C190.2795,-254.0706 179.2803,-239.937 169,-228 164.5821,-222.8702 159.6649,-217.4898 154.9736,-212.4984\"/>\n<polygon fill=\"#000000\" stroke=\"#000000\" points=\"157.3243,-209.8917 147.8918,-205.0669 152.2568,-214.7208 157.3243,-209.8917\"/>\n<text text-anchor=\"middle\" x=\"184\" y=\"-231.8\" font-family=\"Times,serif\" font-size=\"14.00\" fill=\"#000000\">0</text>\n</g>\n<!-- K&#45;&gt;I -->\n<g id=\"edge20\" class=\"edge\">\n<title>K&#45;&gt;I</title>\n<path fill=\"none\" stroke=\"#000000\" d=\"M204.429,-261.3638C194.1885,-222.8699 167.7177,-128.781 135,-54 133.3387,-50.2029 131.4043,-46.2795 129.4056,-42.4818\"/>\n<polygon fill=\"#000000\" stroke=\"#000000\" points=\"132.3163,-40.5119 124.4239,-33.4436 126.1859,-43.8909 132.3163,-40.5119\"/>\n<text text-anchor=\"middle\" x=\"176\" y=\"-144.8\" font-family=\"Times,serif\" font-size=\"14.00\" fill=\"#000000\">1</text>\n</g>\n</g>\n</svg>\n"
          },
          "metadata": {},
          "execution_count": 34
        }
      ]
    },
    {
      "cell_type": "code",
      "source": [
        "# minimize dfa\n",
        "dfa.minimize()\n",
        "dfa.__str__()\n",
        "print (dfa.states)\n",
        "print (dfa.start_state )\n",
        "\n",
        "print (dfa.final_states)\n"
      ],
      "metadata": {
        "colab": {
          "base_uri": "https://localhost:8080/"
        },
        "id": "RCqByaDQBM4y",
        "outputId": "c1acb60c-bca2-4b85-ef26-9b459be8845f"
      },
      "execution_count": null,
      "outputs": [
        {
          "output_type": "stream",
          "name": "stdout",
          "text": [
            "['1', '2', '3', '4', '5']\n",
            "5\n",
            "['1']\n"
          ]
        }
      ]
    },
    {
      "cell_type": "code",
      "source": [
        "# draw minimized dfa\n",
        "dfa.draw()\n",
        " "
      ],
      "metadata": {
        "colab": {
          "base_uri": "https://localhost:8080/",
          "height": 438
        },
        "id": "5F_d4jWOBXd_",
        "outputId": "f344d850-c57a-449f-8a9b-265cc297a9df"
      },
      "execution_count": null,
      "outputs": [
        {
          "output_type": "execute_result",
          "data": {
            "text/plain": [
              "<graphviz.files.Source at 0x7faf58e67790>"
            ],
            "image/svg+xml": "<?xml version=\"1.0\" encoding=\"UTF-8\" standalone=\"no\"?>\n<!DOCTYPE svg PUBLIC \"-//W3C//DTD SVG 1.1//EN\"\n \"http://www.w3.org/Graphics/SVG/1.1/DTD/svg11.dtd\">\n<!-- Generated by graphviz version 2.40.1 (20161225.0304)\n -->\n<!-- Pages: 1 -->\n<svg width=\"143pt\" height=\"313pt\"\n viewBox=\"0.00 0.00 143.00 313.00\" xmlns=\"http://www.w3.org/2000/svg\" xmlns:xlink=\"http://www.w3.org/1999/xlink\">\n<g id=\"graph0\" class=\"graph\" transform=\"scale(1 1) rotate(0) translate(4 309)\">\n<polygon fill=\"#ffffff\" stroke=\"transparent\" points=\"-4,4 -4,-309 139,-309 139,4 -4,4\"/>\n<!-- 1 -->\n<g id=\"node1\" class=\"node\">\n<title>1</title>\n<ellipse fill=\"#ffffff\" stroke=\"#000000\" cx=\"22\" cy=\"-283\" rx=\"18\" ry=\"18\"/>\n<ellipse fill=\"none\" stroke=\"#000000\" cx=\"22\" cy=\"-283\" rx=\"22\" ry=\"22\"/>\n<text text-anchor=\"middle\" x=\"22\" y=\"-279.3\" font-family=\"Times,serif\" font-size=\"14.00\" fill=\"#000000\">1</text>\n</g>\n<!-- 2 -->\n<g id=\"node2\" class=\"node\">\n<title>2</title>\n<ellipse fill=\"#ffffff\" stroke=\"#000000\" cx=\"73\" cy=\"-18\" rx=\"18\" ry=\"18\"/>\n<text text-anchor=\"middle\" x=\"73\" y=\"-14.3\" font-family=\"Times,serif\" font-size=\"14.00\" fill=\"#000000\">2</text>\n</g>\n<!-- 1&#45;&gt;2 -->\n<g id=\"edge1\" class=\"edge\">\n<title>1&#45;&gt;2</title>\n<path fill=\"none\" stroke=\"#000000\" d=\"M22.8993,-260.9177C24.7907,-224.2763 30.3842,-148.8227 46,-87 49.7038,-72.3367 55.7004,-56.5885 61.1026,-43.8447\"/>\n<polygon fill=\"#000000\" stroke=\"#000000\" points=\"64.456,-44.9115 65.2525,-34.3466 58.0415,-42.1088 64.456,-44.9115\"/>\n<text text-anchor=\"middle\" x=\"38\" y=\"-144.8\" font-family=\"Times,serif\" font-size=\"14.00\" fill=\"#000000\">0</text>\n</g>\n<!-- 4 -->\n<g id=\"node3\" class=\"node\">\n<title>4</title>\n<ellipse fill=\"#ffffff\" stroke=\"#000000\" cx=\"117\" cy=\"-192\" rx=\"18\" ry=\"18\"/>\n<text text-anchor=\"middle\" x=\"117\" y=\"-188.3\" font-family=\"Times,serif\" font-size=\"14.00\" fill=\"#000000\">4</text>\n</g>\n<!-- 1&#45;&gt;4 -->\n<g id=\"edge2\" class=\"edge\">\n<title>1&#45;&gt;4</title>\n<path fill=\"none\" stroke=\"#000000\" d=\"M38.1155,-267.5631C54.1828,-252.1723 78.9219,-228.4748 96.4051,-211.7277\"/>\n<polygon fill=\"#000000\" stroke=\"#000000\" points=\"99.0698,-214.022 103.8702,-204.577 94.2276,-208.9669 99.0698,-214.022\"/>\n<text text-anchor=\"middle\" x=\"82\" y=\"-231.8\" font-family=\"Times,serif\" font-size=\"14.00\" fill=\"#000000\">1</text>\n</g>\n<!-- 2&#45;&gt;2 -->\n<g id=\"edge3\" class=\"edge\">\n<title>2&#45;&gt;2</title>\n<path fill=\"none\" stroke=\"#000000\" d=\"M89.6641,-25.3828C99.625,-27.0234 109,-24.5625 109,-18 109,-13.7959 105.1525,-11.2751 99.7682,-10.4375\"/>\n<polygon fill=\"#000000\" stroke=\"#000000\" points=\"99.6002,-6.9399 89.6641,-10.6172 99.7247,-13.9388 99.6002,-6.9399\"/>\n<text text-anchor=\"middle\" x=\"118.5\" y=\"-14.3\" font-family=\"Times,serif\" font-size=\"14.00\" fill=\"#000000\">0,1</text>\n</g>\n<!-- 4&#45;&gt;2 -->\n<g id=\"edge6\" class=\"edge\">\n<title>4&#45;&gt;2</title>\n<path fill=\"none\" stroke=\"#000000\" d=\"M114.228,-174.0555C112.7071,-164.2792 110.7746,-151.9708 109,-141 105.1147,-116.9812 106.468,-110.4556 100,-87 95.9796,-72.4204 89.9572,-56.679 84.6196,-43.9181\"/>\n<polygon fill=\"#000000\" stroke=\"#000000\" points=\"87.6964,-42.2122 80.5372,-34.4022 81.2634,-44.9721 87.6964,-42.2122\"/>\n<text text-anchor=\"middle\" x=\"110\" y=\"-101.3\" font-family=\"Times,serif\" font-size=\"14.00\" fill=\"#000000\">1</text>\n</g>\n<!-- 3 -->\n<g id=\"node4\" class=\"node\">\n<title>3</title>\n<ellipse fill=\"#ffffff\" stroke=\"#000000\" cx=\"73\" cy=\"-105\" rx=\"18\" ry=\"18\"/>\n<text text-anchor=\"middle\" x=\"73\" y=\"-101.3\" font-family=\"Times,serif\" font-size=\"14.00\" fill=\"#000000\">3</text>\n</g>\n<!-- 4&#45;&gt;3 -->\n<g id=\"edge7\" class=\"edge\">\n<title>4&#45;&gt;3</title>\n<path fill=\"none\" stroke=\"#000000\" d=\"M108.7239,-175.636C102.2709,-162.8766 93.1951,-144.9312 85.8063,-130.3216\"/>\n<polygon fill=\"#000000\" stroke=\"#000000\" points=\"88.8754,-128.6347 81.239,-121.2907 82.6288,-131.7939 88.8754,-128.6347\"/>\n<text text-anchor=\"middle\" x=\"101\" y=\"-144.8\" font-family=\"Times,serif\" font-size=\"14.00\" fill=\"#000000\">0</text>\n</g>\n<!-- 3&#45;&gt;1 -->\n<g id=\"edge4\" class=\"edge\">\n<title>3&#45;&gt;1</title>\n<path fill=\"none\" stroke=\"#000000\" d=\"M67.9735,-122.5436C59.3786,-152.5413 41.7469,-214.0796 30.9902,-251.6225\"/>\n<polygon fill=\"#000000\" stroke=\"#000000\" points=\"27.5416,-250.9518 28.1518,-261.529 34.2708,-252.8799 27.5416,-250.9518\"/>\n<text text-anchor=\"middle\" x=\"56\" y=\"-188.3\" font-family=\"Times,serif\" font-size=\"14.00\" fill=\"#000000\">0</text>\n</g>\n<!-- 3&#45;&gt;2 -->\n<g id=\"edge5\" class=\"edge\">\n<title>3&#45;&gt;2</title>\n<path fill=\"none\" stroke=\"#000000\" d=\"M73,-86.9735C73,-75.1918 73,-59.5607 73,-46.1581\"/>\n<polygon fill=\"#000000\" stroke=\"#000000\" points=\"76.5001,-46.0033 73,-36.0034 69.5001,-46.0034 76.5001,-46.0033\"/>\n<text text-anchor=\"middle\" x=\"77\" y=\"-57.8\" font-family=\"Times,serif\" font-size=\"14.00\" fill=\"#000000\">1</text>\n</g>\n<!-- 5 -->\n<g id=\"node5\" class=\"node\">\n<title>5</title>\n<ellipse fill=\"#c0c0c0\" stroke=\"#000000\" cx=\"95\" cy=\"-283\" rx=\"18\" ry=\"18\"/>\n<text text-anchor=\"middle\" x=\"95\" y=\"-279.3\" font-family=\"Times,serif\" font-size=\"14.00\" fill=\"#000000\">5</text>\n</g>\n<!-- 5&#45;&gt;4 -->\n<g id=\"edge9\" class=\"edge\">\n<title>5&#45;&gt;4</title>\n<path fill=\"none\" stroke=\"#000000\" d=\"M99.2418,-265.4543C102.3868,-252.4456 106.7351,-234.4594 110.3417,-219.5413\"/>\n<polygon fill=\"#000000\" stroke=\"#000000\" points=\"113.7482,-220.3448 112.6961,-209.8023 106.9442,-218.6998 113.7482,-220.3448\"/>\n<text text-anchor=\"middle\" x=\"111\" y=\"-231.8\" font-family=\"Times,serif\" font-size=\"14.00\" fill=\"#000000\">0</text>\n</g>\n<!-- 5&#45;&gt;3 -->\n<g id=\"edge8\" class=\"edge\">\n<title>5&#45;&gt;3</title>\n<path fill=\"none\" stroke=\"#000000\" d=\"M91.3385,-265.0706C88.4427,-250.3364 84.4862,-228.8891 82,-210 78.6046,-184.2036 76.2042,-154.6653 74.7412,-133.5031\"/>\n<polygon fill=\"#000000\" stroke=\"#000000\" points=\"78.2163,-133.0103 74.0612,-123.2643 71.2317,-133.4742 78.2163,-133.0103\"/>\n<text text-anchor=\"middle\" x=\"86\" y=\"-188.3\" font-family=\"Times,serif\" font-size=\"14.00\" fill=\"#000000\">1</text>\n</g>\n</g>\n</svg>\n"
          },
          "metadata": {},
          "execution_count": 39
        }
      ]
    }
  ]
}